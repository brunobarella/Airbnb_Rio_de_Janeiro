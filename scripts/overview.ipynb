{
 "metadata": {
  "language_info": {
   "codemirror_mode": {
    "name": "ipython",
    "version": 3
   },
   "file_extension": ".py",
   "mimetype": "text/x-python",
   "name": "python",
   "nbconvert_exporter": "python",
   "pygments_lexer": "ipython3",
   "version": "3.8.5-final"
  },
  "orig_nbformat": 2,
  "kernelspec": {
   "name": "python3",
   "display_name": "Python 3.8.5 64-bit",
   "metadata": {
    "interpreter": {
     "hash": "916dbcbb3f70747c44a77c7bcd40155683ae19c65e1c03b4aa3499c5328201f1"
    }
   }
  }
 },
 "nbformat": 4,
 "nbformat_minor": 2,
 "cells": [
  {
   "source": [
    "## Verificando dataset"
   ],
   "cell_type": "markdown",
   "metadata": {}
  },
  {
   "cell_type": "code",
   "execution_count": 1,
   "metadata": {},
   "outputs": [
    {
     "output_type": "stream",
     "name": "stdout",
     "text": [
      "listagem: (26615, 74)\ncalendar: (9685126, 7)\nriviews: (323274, 6)\n"
     ]
    }
   ],
   "source": [
    "import pandas as pd\n",
    "\n",
    "listagens = pd.read_csv('../data/listings.csv.gz', compression='gzip')\n",
    "calendar = pd.read_csv('../data/calendar.csv.gz', compression='gzip')\n",
    "riviews = pd.read_csv('../data/reviews.csv.gz', compression='gzip')\n",
    "\n",
    "print('listagem: '+ str(listagens.shape))\n",
    "print('calendar: '+ str(calendar.shape))\n",
    "print('riviews: '+ str(riviews.shape))"
   ]
  },
  {
   "cell_type": "code",
   "execution_count": 2,
   "metadata": {},
   "outputs": [
    {
     "output_type": "execute_result",
     "data": {
      "text/plain": [
       "Index(['id', 'listing_url', 'scrape_id', 'last_scraped', 'name', 'description',\n",
       "       'neighborhood_overview', 'picture_url', 'host_id', 'host_url',\n",
       "       'host_name', 'host_since', 'host_location', 'host_about',\n",
       "       'host_response_time', 'host_response_rate', 'host_acceptance_rate',\n",
       "       'host_is_superhost', 'host_thumbnail_url', 'host_picture_url',\n",
       "       'host_neighbourhood', 'host_listings_count',\n",
       "       'host_total_listings_count', 'host_verifications',\n",
       "       'host_has_profile_pic', 'host_identity_verified', 'neighbourhood',\n",
       "       'neighbourhood_cleansed', 'neighbourhood_group_cleansed', 'latitude',\n",
       "       'longitude', 'property_type', 'room_type', 'accommodates', 'bathrooms',\n",
       "       'bathrooms_text', 'bedrooms', 'beds', 'amenities', 'price',\n",
       "       'minimum_nights', 'maximum_nights', 'minimum_minimum_nights',\n",
       "       'maximum_minimum_nights', 'minimum_maximum_nights',\n",
       "       'maximum_maximum_nights', 'minimum_nights_avg_ntm',\n",
       "       'maximum_nights_avg_ntm', 'calendar_updated', 'has_availability',\n",
       "       'availability_30', 'availability_60', 'availability_90',\n",
       "       'availability_365', 'calendar_last_scraped', 'number_of_reviews',\n",
       "       'number_of_reviews_ltm', 'number_of_reviews_l30d', 'first_review',\n",
       "       'last_review', 'review_scores_rating', 'review_scores_accuracy',\n",
       "       'review_scores_cleanliness', 'review_scores_checkin',\n",
       "       'review_scores_communication', 'review_scores_location',\n",
       "       'review_scores_value', 'license', 'instant_bookable',\n",
       "       'calculated_host_listings_count',\n",
       "       'calculated_host_listings_count_entire_homes',\n",
       "       'calculated_host_listings_count_private_rooms',\n",
       "       'calculated_host_listings_count_shared_rooms', 'reviews_per_month'],\n",
       "      dtype='object')"
      ]
     },
     "metadata": {},
     "execution_count": 2
    }
   ],
   "source": [
    "listagens.columns"
   ]
  },
  {
   "cell_type": "code",
   "execution_count": 3,
   "metadata": {},
   "outputs": [
    {
     "output_type": "execute_result",
     "data": {
      "text/plain": [
       "Index(['listing_id', 'date', 'available', 'price', 'adjusted_price',\n",
       "       'minimum_nights', 'maximum_nights'],\n",
       "      dtype='object')"
      ]
     },
     "metadata": {},
     "execution_count": 3
    }
   ],
   "source": [
    "calendar.columns"
   ]
  },
  {
   "cell_type": "code",
   "execution_count": 4,
   "metadata": {},
   "outputs": [
    {
     "output_type": "execute_result",
     "data": {
      "text/plain": [
       "Index(['listing_id', 'id', 'date', 'reviewer_id', 'reviewer_name', 'comments'], dtype='object')"
      ]
     },
     "metadata": {},
     "execution_count": 4
    }
   ],
   "source": [
    "riviews.columns"
   ]
  },
  {
   "cell_type": "code",
   "execution_count": 5,
   "metadata": {},
   "outputs": [
    {
     "output_type": "stream",
     "name": "stderr",
     "text": [
      "Summarize dataset: 100%|██████████| 88/88 [03:21<00:00,  2.29s/it, Completed]\n",
      "Generate report structure: 100%|██████████| 1/1 [00:19<00:00, 19.98s/it]\n",
      "Render HTML: 100%|██████████| 1/1 [00:29<00:00, 29.29s/it]\n",
      "Export report to file: 100%|██████████| 1/1 [00:00<00:00,  2.50it/s]\n",
      "Summarize dataset: 100%|██████████| 21/21 [03:57<00:00, 11.29s/it, Completed]\n",
      "Generate report structure: 100%|██████████| 1/1 [00:02<00:00,  2.37s/it]\n",
      "Render HTML: 100%|██████████| 1/1 [00:00<00:00,  1.38it/s]\n",
      "Export report to file: 100%|██████████| 1/1 [00:00<00:00,  4.28it/s]\n",
      "Summarize dataset: 100%|██████████| 20/20 [00:10<00:00,  1.98it/s, Completed]\n",
      "Generate report structure: 100%|██████████| 1/1 [00:02<00:00,  2.97s/it]\n",
      "Render HTML: 100%|██████████| 1/1 [00:00<00:00,  2.86it/s]\n",
      "Export report to file: 100%|██████████| 1/1 [00:00<00:00, 400.64it/s]\n"
     ]
    }
   ],
   "source": [
    "from pandas_profiling import ProfileReport\n",
    "prof = ProfileReport(listagens)\n",
    "prof.to_file(output_file='../data/report/listagens.html')\n",
    "\n",
    "prof = ProfileReport(calendar)\n",
    "prof.to_file(output_file='../data/report/calendar.html')\n",
    "\n",
    "prof = ProfileReport(riviews)\n",
    "prof.to_file(output_file='../data/report/riviews.html')\n"
   ]
  },
  {
   "cell_type": "code",
   "execution_count": null,
   "metadata": {},
   "outputs": [],
   "source": []
  }
 ]
}